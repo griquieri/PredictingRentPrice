{
 "cells": [
  {
   "cell_type": "markdown",
   "metadata": {},
   "source": [
    "# 0 - Introduction\n",
    "Heyy guys, my name is Gabriel Riquieri and I'm a computer science student. I started to study data science a time ago and realy like it and start to work in some projects. That one it's the first project that i share. I decided to do it in a didactic way to solidify my own knowledge.  I'm not a professor or some Phd student, so my code and explanations may contain some mistakes or maybe there is some way do do with a better performace. I hope you guys enjoy this small work, feel free to leave a comment or email me in gabriel.riquieri@ufu.br"
   ]
  },
  {
   "cell_type": "markdown",
   "metadata": {},
   "source": [
    "# 1 - Importing dataframe \n",
    "If you are some kind a moster that skip the introductions, I undestand and here we go!\n",
    "\n",
    "First things first, import pandas to work with dataframes and them read the .csv file with the data"
   ]
  },
  {
   "cell_type": "code",
   "execution_count": 1,
   "metadata": {},
   "outputs": [],
   "source": [
    "import pandas as pd"
   ]
  },
  {
   "cell_type": "code",
   "execution_count": 2,
   "metadata": {},
   "outputs": [],
   "source": [
    "df = pd.read_csv('data.csv')"
   ]
  },
  {
   "cell_type": "code",
   "execution_count": 3,
   "metadata": {},
   "outputs": [
    {
     "data": {
      "text/html": [
       "<div>\n",
       "<style scoped>\n",
       "    .dataframe tbody tr th:only-of-type {\n",
       "        vertical-align: middle;\n",
       "    }\n",
       "\n",
       "    .dataframe tbody tr th {\n",
       "        vertical-align: top;\n",
       "    }\n",
       "\n",
       "    .dataframe thead th {\n",
       "        text-align: right;\n",
       "    }\n",
       "</style>\n",
       "<table border=\"1\" class=\"dataframe\">\n",
       "  <thead>\n",
       "    <tr style=\"text-align: right;\">\n",
       "      <th></th>\n",
       "      <th>city</th>\n",
       "      <th>area</th>\n",
       "      <th>rooms</th>\n",
       "      <th>bathroom</th>\n",
       "      <th>parking spaces</th>\n",
       "      <th>floor</th>\n",
       "      <th>animal</th>\n",
       "      <th>furniture</th>\n",
       "      <th>hoa (R$)</th>\n",
       "      <th>rent amount (R$)</th>\n",
       "      <th>property tax (R$)</th>\n",
       "      <th>fire insurance (R$)</th>\n",
       "      <th>total (R$)</th>\n",
       "    </tr>\n",
       "  </thead>\n",
       "  <tbody>\n",
       "    <tr>\n",
       "      <th>0</th>\n",
       "      <td>São Paulo</td>\n",
       "      <td>70</td>\n",
       "      <td>2</td>\n",
       "      <td>1</td>\n",
       "      <td>1</td>\n",
       "      <td>7</td>\n",
       "      <td>acept</td>\n",
       "      <td>furnished</td>\n",
       "      <td>2065</td>\n",
       "      <td>3300</td>\n",
       "      <td>211</td>\n",
       "      <td>42</td>\n",
       "      <td>5618</td>\n",
       "    </tr>\n",
       "    <tr>\n",
       "      <th>1</th>\n",
       "      <td>São Paulo</td>\n",
       "      <td>320</td>\n",
       "      <td>4</td>\n",
       "      <td>4</td>\n",
       "      <td>0</td>\n",
       "      <td>20</td>\n",
       "      <td>acept</td>\n",
       "      <td>not furnished</td>\n",
       "      <td>1200</td>\n",
       "      <td>4960</td>\n",
       "      <td>1750</td>\n",
       "      <td>63</td>\n",
       "      <td>7973</td>\n",
       "    </tr>\n",
       "    <tr>\n",
       "      <th>2</th>\n",
       "      <td>Porto Alegre</td>\n",
       "      <td>80</td>\n",
       "      <td>1</td>\n",
       "      <td>1</td>\n",
       "      <td>1</td>\n",
       "      <td>6</td>\n",
       "      <td>acept</td>\n",
       "      <td>not furnished</td>\n",
       "      <td>1000</td>\n",
       "      <td>2800</td>\n",
       "      <td>0</td>\n",
       "      <td>41</td>\n",
       "      <td>3841</td>\n",
       "    </tr>\n",
       "  </tbody>\n",
       "</table>\n",
       "</div>"
      ],
      "text/plain": [
       "           city  area  rooms  bathroom  parking spaces floor animal  \\\n",
       "0     São Paulo    70      2         1               1     7  acept   \n",
       "1     São Paulo   320      4         4               0    20  acept   \n",
       "2  Porto Alegre    80      1         1               1     6  acept   \n",
       "\n",
       "       furniture  hoa (R$)  rent amount (R$)  property tax (R$)  \\\n",
       "0      furnished      2065              3300                211   \n",
       "1  not furnished      1200              4960               1750   \n",
       "2  not furnished      1000              2800                  0   \n",
       "\n",
       "   fire insurance (R$)  total (R$)  \n",
       "0                   42        5618  \n",
       "1                   63        7973  \n",
       "2                   41        3841  "
      ]
     },
     "execution_count": 3,
     "metadata": {},
     "output_type": "execute_result"
    }
   ],
   "source": [
    "df.head(3)"
   ]
  },
  {
   "cell_type": "code",
   "execution_count": 4,
   "metadata": {},
   "outputs": [
    {
     "data": {
      "text/plain": [
       "(10692, 13)"
      ]
     },
     "execution_count": 4,
     "metadata": {},
     "output_type": "execute_result"
    }
   ],
   "source": [
    "df.shape"
   ]
  },
  {
   "cell_type": "markdown",
   "metadata": {},
   "source": [
    "# 2 - 'What do we have and waht do we want?'"
   ]
  },
  {
   "cell_type": "markdown",
   "metadata": {},
   "source": [
    "We have almost 11000 rows and 13 features, we have a lot of data and before start to plat with this deta let's define what do we wanto to predict. In this case i will be trying to predict the 'rent amount'; So we have 12 independent variables and 1 dependent variable(target). Our target is a price, so it's a continuous numeric variable, then we can conclude that we have a regression problem"
   ]
  },
  {
   "cell_type": "markdown",
   "metadata": {},
   "source": [
    "# 3 - Exploratory data analysis(EDA) and visualization"
   ]
  },
  {
   "cell_type": "markdown",
   "metadata": {},
   "source": [
    "Our variables are numerical or categorical?"
   ]
  },
  {
   "cell_type": "code",
   "execution_count": 5,
   "metadata": {},
   "outputs": [
    {
     "name": "stdout",
     "output_type": "stream",
     "text": [
      "<class 'pandas.core.frame.DataFrame'>\n",
      "RangeIndex: 10692 entries, 0 to 10691\n",
      "Data columns (total 13 columns):\n",
      " #   Column               Non-Null Count  Dtype \n",
      "---  ------               --------------  ----- \n",
      " 0   city                 10692 non-null  object\n",
      " 1   area                 10692 non-null  int64 \n",
      " 2   rooms                10692 non-null  int64 \n",
      " 3   bathroom             10692 non-null  int64 \n",
      " 4   parking spaces       10692 non-null  int64 \n",
      " 5   floor                10692 non-null  object\n",
      " 6   animal               10692 non-null  object\n",
      " 7   furniture            10692 non-null  object\n",
      " 8   hoa (R$)             10692 non-null  int64 \n",
      " 9   rent amount (R$)     10692 non-null  int64 \n",
      " 10  property tax (R$)    10692 non-null  int64 \n",
      " 11  fire insurance (R$)  10692 non-null  int64 \n",
      " 12  total (R$)           10692 non-null  int64 \n",
      "dtypes: int64(9), object(4)\n",
      "memory usage: 1.1+ MB\n"
     ]
    }
   ],
   "source": [
    "df.info()"
   ]
  },
  {
   "cell_type": "markdown",
   "metadata": {},
   "source": [
    "So we have 4 categorical features and 8 numerical features. That nice because, in a short future, when we will be building models, we will need that this data be all numeric"
   ]
  },
  {
   "cell_type": "markdown",
   "metadata": {},
   "source": [
    "## 3.1 - Checking and dealing with missing values"
   ]
  },
  {
   "cell_type": "markdown",
   "metadata": {},
   "source": [
    "Now that we know what we have, let's start to search for what we don't have(wow, that's sound very philosophical), let's try to find missing values"
   ]
  },
  {
   "cell_type": "code",
   "execution_count": 6,
   "metadata": {
    "scrolled": true
   },
   "outputs": [
    {
     "data": {
      "text/html": [
       "<div>\n",
       "<style scoped>\n",
       "    .dataframe tbody tr th:only-of-type {\n",
       "        vertical-align: middle;\n",
       "    }\n",
       "\n",
       "    .dataframe tbody tr th {\n",
       "        vertical-align: top;\n",
       "    }\n",
       "\n",
       "    .dataframe thead th {\n",
       "        text-align: right;\n",
       "    }\n",
       "</style>\n",
       "<table border=\"1\" class=\"dataframe\">\n",
       "  <thead>\n",
       "    <tr style=\"text-align: right;\">\n",
       "      <th></th>\n",
       "      <th>Total</th>\n",
       "      <th>Percent</th>\n",
       "    </tr>\n",
       "  </thead>\n",
       "  <tbody>\n",
       "    <tr>\n",
       "      <th>city</th>\n",
       "      <td>0</td>\n",
       "      <td>0.0</td>\n",
       "    </tr>\n",
       "    <tr>\n",
       "      <th>area</th>\n",
       "      <td>0</td>\n",
       "      <td>0.0</td>\n",
       "    </tr>\n",
       "    <tr>\n",
       "      <th>rooms</th>\n",
       "      <td>0</td>\n",
       "      <td>0.0</td>\n",
       "    </tr>\n",
       "    <tr>\n",
       "      <th>bathroom</th>\n",
       "      <td>0</td>\n",
       "      <td>0.0</td>\n",
       "    </tr>\n",
       "    <tr>\n",
       "      <th>parking spaces</th>\n",
       "      <td>0</td>\n",
       "      <td>0.0</td>\n",
       "    </tr>\n",
       "    <tr>\n",
       "      <th>floor</th>\n",
       "      <td>0</td>\n",
       "      <td>0.0</td>\n",
       "    </tr>\n",
       "    <tr>\n",
       "      <th>animal</th>\n",
       "      <td>0</td>\n",
       "      <td>0.0</td>\n",
       "    </tr>\n",
       "    <tr>\n",
       "      <th>furniture</th>\n",
       "      <td>0</td>\n",
       "      <td>0.0</td>\n",
       "    </tr>\n",
       "    <tr>\n",
       "      <th>hoa (R$)</th>\n",
       "      <td>0</td>\n",
       "      <td>0.0</td>\n",
       "    </tr>\n",
       "    <tr>\n",
       "      <th>rent amount (R$)</th>\n",
       "      <td>0</td>\n",
       "      <td>0.0</td>\n",
       "    </tr>\n",
       "    <tr>\n",
       "      <th>property tax (R$)</th>\n",
       "      <td>0</td>\n",
       "      <td>0.0</td>\n",
       "    </tr>\n",
       "    <tr>\n",
       "      <th>fire insurance (R$)</th>\n",
       "      <td>0</td>\n",
       "      <td>0.0</td>\n",
       "    </tr>\n",
       "    <tr>\n",
       "      <th>total (R$)</th>\n",
       "      <td>0</td>\n",
       "      <td>0.0</td>\n",
       "    </tr>\n",
       "  </tbody>\n",
       "</table>\n",
       "</div>"
      ],
      "text/plain": [
       "                     Total  Percent\n",
       "city                     0      0.0\n",
       "area                     0      0.0\n",
       "rooms                    0      0.0\n",
       "bathroom                 0      0.0\n",
       "parking spaces           0      0.0\n",
       "floor                    0      0.0\n",
       "animal                   0      0.0\n",
       "furniture                0      0.0\n",
       "hoa (R$)                 0      0.0\n",
       "rent amount (R$)         0      0.0\n",
       "property tax (R$)        0      0.0\n",
       "fire insurance (R$)      0      0.0\n",
       "total (R$)               0      0.0"
      ]
     },
     "execution_count": 6,
     "metadata": {},
     "output_type": "execute_result"
    }
   ],
   "source": [
    "miss = df.isnull().sum()\n",
    "miss_= (df.isnull().sum()/df.isnull().count())*100\n",
    "\n",
    "missing_data = pd.concat([miss, miss_], axis=1, keys=['Total', 'Percent'])\n",
    "missing_data"
   ]
  },
  {
   "cell_type": "markdown",
   "metadata": {},
   "source": [
    "And that is... strange.. what is a problem without variables missing? Let's keep searching"
   ]
  },
  {
   "cell_type": "code",
   "execution_count": 7,
   "metadata": {},
   "outputs": [
    {
     "data": {
      "text/plain": [
       "São Paulo         5887\n",
       "Rio de Janeiro    1501\n",
       "Belo Horizonte    1258\n",
       "Porto Alegre      1193\n",
       "Campinas           853\n",
       "Name: city, dtype: int64"
      ]
     },
     "execution_count": 7,
     "metadata": {},
     "output_type": "execute_result"
    }
   ],
   "source": [
    "df['city'].value_counts()"
   ]
  },
  {
   "cell_type": "code",
   "execution_count": 8,
   "metadata": {
    "scrolled": true
   },
   "outputs": [
    {
     "data": {
      "text/plain": [
       "-      2461\n",
       "1      1081\n",
       "2       985\n",
       "3       931\n",
       "4       748\n",
       "5       600\n",
       "6       539\n",
       "7       497\n",
       "8       490\n",
       "9       369\n",
       "10      357\n",
       "11      303\n",
       "12      257\n",
       "13      200\n",
       "14      170\n",
       "15      147\n",
       "16      109\n",
       "17       96\n",
       "18       75\n",
       "19       53\n",
       "20       44\n",
       "21       42\n",
       "25       25\n",
       "23       25\n",
       "22       24\n",
       "26       20\n",
       "24       19\n",
       "27        8\n",
       "28        6\n",
       "29        5\n",
       "32        2\n",
       "301       1\n",
       "46        1\n",
       "35        1\n",
       "51        1\n",
       "Name: floor, dtype: int64"
      ]
     },
     "execution_count": 8,
     "metadata": {},
     "output_type": "execute_result"
    }
   ],
   "source": [
    "df['floor'].value_counts()"
   ]
  },
  {
   "cell_type": "markdown",
   "metadata": {},
   "source": [
    "Enemy spooted!\n",
    "\n",
    "'-' doesn't seem like a value to enumerate floors.. and I'm pretty sure that we don't have a building with 301 floors in those cities. Let's transform those values to '0', tranform these feature for numerical, get the median and replace those zeros"
   ]
  },
  {
   "cell_type": "code",
   "execution_count": 9,
   "metadata": {
    "scrolled": true
   },
   "outputs": [
    {
     "data": {
      "text/plain": [
       "0     2462\n",
       "1     1081\n",
       "2      985\n",
       "3      931\n",
       "4      748\n",
       "5      600\n",
       "6      539\n",
       "7      497\n",
       "8      490\n",
       "9      369\n",
       "10     357\n",
       "11     303\n",
       "12     257\n",
       "13     200\n",
       "14     170\n",
       "15     147\n",
       "16     109\n",
       "17      96\n",
       "18      75\n",
       "19      53\n",
       "20      44\n",
       "21      42\n",
       "23      25\n",
       "25      25\n",
       "22      24\n",
       "26      20\n",
       "24      19\n",
       "27       8\n",
       "28       6\n",
       "29       5\n",
       "32       2\n",
       "46       1\n",
       "35       1\n",
       "51       1\n",
       "Name: floor, dtype: int64"
      ]
     },
     "execution_count": 9,
     "metadata": {},
     "output_type": "execute_result"
    }
   ],
   "source": [
    "df['floor'] = df['floor'].replace(['-','301'], 0)\n",
    "df['floor'].value_counts()"
   ]
  },
  {
   "cell_type": "code",
   "execution_count": 10,
   "metadata": {},
   "outputs": [],
   "source": [
    "df['floor'] = df['floor'].astype(int)"
   ]
  },
  {
   "cell_type": "code",
   "execution_count": 11,
   "metadata": {
    "scrolled": true
   },
   "outputs": [
    {
     "name": "stdout",
     "output_type": "stream",
     "text": [
      "<class 'pandas.core.frame.DataFrame'>\n",
      "RangeIndex: 10692 entries, 0 to 10691\n",
      "Data columns (total 13 columns):\n",
      " #   Column               Non-Null Count  Dtype \n",
      "---  ------               --------------  ----- \n",
      " 0   city                 10692 non-null  object\n",
      " 1   area                 10692 non-null  int64 \n",
      " 2   rooms                10692 non-null  int64 \n",
      " 3   bathroom             10692 non-null  int64 \n",
      " 4   parking spaces       10692 non-null  int64 \n",
      " 5   floor                10692 non-null  int32 \n",
      " 6   animal               10692 non-null  object\n",
      " 7   furniture            10692 non-null  object\n",
      " 8   hoa (R$)             10692 non-null  int64 \n",
      " 9   rent amount (R$)     10692 non-null  int64 \n",
      " 10  property tax (R$)    10692 non-null  int64 \n",
      " 11  fire insurance (R$)  10692 non-null  int64 \n",
      " 12  total (R$)           10692 non-null  int64 \n",
      "dtypes: int32(1), int64(9), object(3)\n",
      "memory usage: 1.0+ MB\n"
     ]
    }
   ],
   "source": [
    "df.info()"
   ]
  },
  {
   "cell_type": "code",
   "execution_count": 12,
   "metadata": {
    "scrolled": true
   },
   "outputs": [
    {
     "data": {
      "text/plain": [
       "3     3393\n",
       "1     1081\n",
       "2      985\n",
       "4      748\n",
       "5      600\n",
       "6      539\n",
       "7      497\n",
       "8      490\n",
       "9      369\n",
       "10     357\n",
       "11     303\n",
       "12     257\n",
       "13     200\n",
       "14     170\n",
       "15     147\n",
       "16     109\n",
       "17      96\n",
       "18      75\n",
       "19      53\n",
       "20      44\n",
       "21      42\n",
       "25      25\n",
       "23      25\n",
       "22      24\n",
       "26      20\n",
       "24      19\n",
       "27       8\n",
       "28       6\n",
       "29       5\n",
       "32       2\n",
       "51       1\n",
       "46       1\n",
       "35       1\n",
       "Name: floor, dtype: int64"
      ]
     },
     "execution_count": 12,
     "metadata": {},
     "output_type": "execute_result"
    }
   ],
   "source": [
    "df['floor'] = df['floor'].replace(0, df['floor'].median())\n",
    "df['floor'].value_counts()"
   ]
  },
  {
   "cell_type": "markdown",
   "metadata": {},
   "source": [
    "Good work!"
   ]
  },
  {
   "cell_type": "markdown",
   "metadata": {},
   "source": [
    "## 3.2 - Visualization\n",
    "We can use plots to have and idea of the way that our data are distributed. It's simple and effective."
   ]
  },
  {
   "cell_type": "code",
   "execution_count": 13,
   "metadata": {},
   "outputs": [
    {
     "data": {
      "text/plain": [
       "Text(0.5, 1.0, 'Cities visualization')"
      ]
     },
     "execution_count": 13,
     "metadata": {},
     "output_type": "execute_result"
    },
    {
     "data": {
      "image/png": "[encoded data removed]",
      "text/plain": [
       "<Figure size 1080x432 with 1 Axes>"
      ]
     },
     "metadata": {
      "needs_background": "light"
     },
     "output_type": "display_data"
    }
   ],
   "source": [
    "ax = df['city'].value_counts().plot(kind='bar', figsize=(15,6))\n",
    "ax.set_xlabel('Cities')\n",
    "ax.set_title('Cities visualization', fontsize = 25)"
   ]
  },
  {
   "cell_type": "code",
   "execution_count": 14,
   "metadata": {
    "scrolled": true
   },
   "outputs": [
    {
     "data": {
      "text/plain": [
       "Text(0.5, 1.0, 'Rooms visualization')"
      ]
     },
     "execution_count": 14,
     "metadata": {},
     "output_type": "execute_result"
    },
    {
     "data": {
      "image/png": "[encoded data removed]",
      "text/plain": [
       "<Figure size 1440x432 with 1 Axes>"
      ]
     },
     "metadata": {
      "needs_background": "light"
     },
     "output_type": "display_data"
    }
   ],
   "source": [
    "ax = df['rooms'].value_counts().plot(kind='bar', figsize=(20,6))\n",
    "ax.set_xlabel('Number of rooms')\n",
    "ax.set_title('Rooms visualization')"
   ]
  },
  {
   "cell_type": "code",
   "execution_count": 15,
   "metadata": {},
   "outputs": [
    {
     "data": {
      "text/plain": [
       "Text(0.5, 1.0, 'Bathroom visualization')"
      ]
     },
     "execution_count": 15,
     "metadata": {},
     "output_type": "execute_result"
    },
    {
     "data": {
      "image/png": "[encoded data removed]",
      "text/plain": [
       "<Figure size 1080x432 with 1 Axes>"
      ]
     },
     "metadata": {
      "needs_background": "light"
     },
     "output_type": "display_data"
    }
   ],
   "source": [
    "ax = df['bathroom'].value_counts().plot(kind='bar', figsize=(15,6))\n",
    "ax.set_xlabel('Number of bathroom')\n",
    "ax.set_title('Bathroom visualization', fontsize = 25)"
   ]
  },
  {
   "cell_type": "markdown",
   "metadata": {},
   "source": [
    "## 3.3 - Turning categorical into numerical\n",
    "As I said before, our model work with numeric values. We need to turn our categorical features into numerical features; We could use ``pd.get_dummies()`` but because we only have two possibles categories in each feature, we can simply use ``replace()`` \n",
    "\n",
    "* I will discard 'city' that why i'm not work with this feature; If our model get a poor accuracy we can go back here and transform 'city' values in numerical values too"
   ]
  },
  {
   "cell_type": "markdown",
   "metadata": {},
   "source": [
    "##### Animal"
   ]
  },
  {
   "cell_type": "code",
   "execution_count": 16,
   "metadata": {},
   "outputs": [
    {
     "data": {
      "text/plain": [
       "acept        8316\n",
       "not acept    2376\n",
       "Name: animal, dtype: int64"
      ]
     },
     "execution_count": 16,
     "metadata": {},
     "output_type": "execute_result"
    }
   ],
   "source": [
    "df['animal'].value_counts()"
   ]
  },
  {
   "cell_type": "markdown",
   "metadata": {},
   "source": [
    "* acept = 1\n",
    "* not acept = 0"
   ]
  },
  {
   "cell_type": "code",
   "execution_count": 17,
   "metadata": {},
   "outputs": [],
   "source": [
    "df['animal'] = df['animal'].replace(['acept'], 1)\n",
    "df['animal'] = df['animal'].replace(['not acept'], 0)"
   ]
  },
  {
   "cell_type": "markdown",
   "metadata": {},
   "source": [
    "##### Furniture"
   ]
  },
  {
   "cell_type": "code",
   "execution_count": 18,
   "metadata": {},
   "outputs": [
    {
     "data": {
      "text/plain": [
       "not furnished    8086\n",
       "furnished        2606\n",
       "Name: furniture, dtype: int64"
      ]
     },
     "execution_count": 18,
     "metadata": {},
     "output_type": "execute_result"
    }
   ],
   "source": [
    "df['furniture'].value_counts()"
   ]
  },
  {
   "cell_type": "markdown",
   "metadata": {},
   "source": [
    "* furnished = 1\n",
    "* not furnished = 0"
   ]
  },
  {
   "cell_type": "code",
   "execution_count": 19,
   "metadata": {},
   "outputs": [],
   "source": [
    "df['furniture'] = df['furniture'].replace(['furnished'], 1)\n",
    "df['furniture'] = df['furniture'].replace(['not furnished'], 0)"
   ]
  },
  {
   "cell_type": "code",
   "execution_count": 20,
   "metadata": {},
   "outputs": [
    {
     "data": {
      "text/html": [
       "<div>\n",
       "<style scoped>\n",
       "    .dataframe tbody tr th:only-of-type {\n",
       "        vertical-align: middle;\n",
       "    }\n",
       "\n",
       "    .dataframe tbody tr th {\n",
       "        vertical-align: top;\n",
       "    }\n",
       "\n",
       "    .dataframe thead th {\n",
       "        text-align: right;\n",
       "    }\n",
       "</style>\n",
       "<table border=\"1\" class=\"dataframe\">\n",
       "  <thead>\n",
       "    <tr style=\"text-align: right;\">\n",
       "      <th></th>\n",
       "      <th>city</th>\n",
       "      <th>area</th>\n",
       "      <th>rooms</th>\n",
       "      <th>bathroom</th>\n",
       "      <th>parking spaces</th>\n",
       "      <th>floor</th>\n",
       "      <th>animal</th>\n",
       "      <th>furniture</th>\n",
       "      <th>hoa (R$)</th>\n",
       "      <th>rent amount (R$)</th>\n",
       "      <th>property tax (R$)</th>\n",
       "      <th>fire insurance (R$)</th>\n",
       "      <th>total (R$)</th>\n",
       "    </tr>\n",
       "  </thead>\n",
       "  <tbody>\n",
       "    <tr>\n",
       "      <th>0</th>\n",
       "      <td>São Paulo</td>\n",
       "      <td>70</td>\n",
       "      <td>2</td>\n",
       "      <td>1</td>\n",
       "      <td>1</td>\n",
       "      <td>7</td>\n",
       "      <td>1</td>\n",
       "      <td>1</td>\n",
       "      <td>2065</td>\n",
       "      <td>3300</td>\n",
       "      <td>211</td>\n",
       "      <td>42</td>\n",
       "      <td>5618</td>\n",
       "    </tr>\n",
       "    <tr>\n",
       "      <th>1</th>\n",
       "      <td>São Paulo</td>\n",
       "      <td>320</td>\n",
       "      <td>4</td>\n",
       "      <td>4</td>\n",
       "      <td>0</td>\n",
       "      <td>20</td>\n",
       "      <td>1</td>\n",
       "      <td>0</td>\n",
       "      <td>1200</td>\n",
       "      <td>4960</td>\n",
       "      <td>1750</td>\n",
       "      <td>63</td>\n",
       "      <td>7973</td>\n",
       "    </tr>\n",
       "    <tr>\n",
       "      <th>2</th>\n",
       "      <td>Porto Alegre</td>\n",
       "      <td>80</td>\n",
       "      <td>1</td>\n",
       "      <td>1</td>\n",
       "      <td>1</td>\n",
       "      <td>6</td>\n",
       "      <td>1</td>\n",
       "      <td>0</td>\n",
       "      <td>1000</td>\n",
       "      <td>2800</td>\n",
       "      <td>0</td>\n",
       "      <td>41</td>\n",
       "      <td>3841</td>\n",
       "    </tr>\n",
       "    <tr>\n",
       "      <th>3</th>\n",
       "      <td>Porto Alegre</td>\n",
       "      <td>51</td>\n",
       "      <td>2</td>\n",
       "      <td>1</td>\n",
       "      <td>0</td>\n",
       "      <td>2</td>\n",
       "      <td>1</td>\n",
       "      <td>0</td>\n",
       "      <td>270</td>\n",
       "      <td>1112</td>\n",
       "      <td>22</td>\n",
       "      <td>17</td>\n",
       "      <td>1421</td>\n",
       "    </tr>\n",
       "    <tr>\n",
       "      <th>4</th>\n",
       "      <td>São Paulo</td>\n",
       "      <td>25</td>\n",
       "      <td>1</td>\n",
       "      <td>1</td>\n",
       "      <td>0</td>\n",
       "      <td>1</td>\n",
       "      <td>0</td>\n",
       "      <td>0</td>\n",
       "      <td>0</td>\n",
       "      <td>800</td>\n",
       "      <td>25</td>\n",
       "      <td>11</td>\n",
       "      <td>836</td>\n",
       "    </tr>\n",
       "  </tbody>\n",
       "</table>\n",
       "</div>"
      ],
      "text/plain": [
       "           city  area  rooms  bathroom  parking spaces  floor  animal  \\\n",
       "0     São Paulo    70      2         1               1      7       1   \n",
       "1     São Paulo   320      4         4               0     20       1   \n",
       "2  Porto Alegre    80      1         1               1      6       1   \n",
       "3  Porto Alegre    51      2         1               0      2       1   \n",
       "4     São Paulo    25      1         1               0      1       0   \n",
       "\n",
       "   furniture  hoa (R$)  rent amount (R$)  property tax (R$)  \\\n",
       "0          1      2065              3300                211   \n",
       "1          0      1200              4960               1750   \n",
       "2          0      1000              2800                  0   \n",
       "3          0       270              1112                 22   \n",
       "4          0         0               800                 25   \n",
       "\n",
       "   fire insurance (R$)  total (R$)  \n",
       "0                   42        5618  \n",
       "1                   63        7973  \n",
       "2                   41        3841  \n",
       "3                   17        1421  \n",
       "4                   11         836  "
      ]
     },
     "execution_count": 20,
     "metadata": {},
     "output_type": "execute_result"
    }
   ],
   "source": [
    "df.head()"
   ]
  },
  {
   "cell_type": "markdown",
   "metadata": {},
   "source": [
    "Nice! Works weel"
   ]
  },
  {
   "cell_type": "markdown",
   "metadata": {},
   "source": [
    "# 3.4 - Correlation"
   ]
  },
  {
   "cell_type": "markdown",
   "metadata": {},
   "source": [
    "Now let's study the correlation between our features. To do that we can plor a correalation table but I think that is better visualize in a scatter plot"
   ]
  },
  {
   "cell_type": "code",
   "execution_count": 21,
   "metadata": {},
   "outputs": [
    {
     "data": {
      "text/html": [
       "<div>\n",
       "<style scoped>\n",
       "    .dataframe tbody tr th:only-of-type {\n",
       "        vertical-align: middle;\n",
       "    }\n",
       "\n",
       "    .dataframe tbody tr th {\n",
       "        vertical-align: top;\n",
       "    }\n",
       "\n",
       "    .dataframe thead th {\n",
       "        text-align: right;\n",
       "    }\n",
       "</style>\n",
       "<table border=\"1\" class=\"dataframe\">\n",
       "  <thead>\n",
       "    <tr style=\"text-align: right;\">\n",
       "      <th></th>\n",
       "      <th>area</th>\n",
       "      <th>rooms</th>\n",
       "      <th>bathroom</th>\n",
       "      <th>parking spaces</th>\n",
       "      <th>floor</th>\n",
       "      <th>animal</th>\n",
       "      <th>furniture</th>\n",
       "      <th>hoa (R$)</th>\n",
       "      <th>rent amount (R$)</th>\n",
       "      <th>property tax (R$)</th>\n",
       "      <th>fire insurance (R$)</th>\n",
       "      <th>total (R$)</th>\n",
       "    </tr>\n",
       "  </thead>\n",
       "  <tbody>\n",
       "    <tr>\n",
       "      <th>area</th>\n",
       "      <td>1.000000</td>\n",
       "      <td>0.193796</td>\n",
       "      <td>0.226766</td>\n",
       "      <td>0.193983</td>\n",
       "      <td>0.006703</td>\n",
       "      <td>0.039626</td>\n",
       "      <td>0.008175</td>\n",
       "      <td>0.006890</td>\n",
       "      <td>0.180742</td>\n",
       "      <td>0.039059</td>\n",
       "      <td>0.188078</td>\n",
       "      <td>0.051799</td>\n",
       "    </tr>\n",
       "    <tr>\n",
       "      <th>rooms</th>\n",
       "      <td>0.193796</td>\n",
       "      <td>1.000000</td>\n",
       "      <td>0.733763</td>\n",
       "      <td>0.617510</td>\n",
       "      <td>-0.034455</td>\n",
       "      <td>0.172190</td>\n",
       "      <td>-0.080694</td>\n",
       "      <td>0.007139</td>\n",
       "      <td>0.541758</td>\n",
       "      <td>0.075252</td>\n",
       "      <td>0.565148</td>\n",
       "      <td>0.134597</td>\n",
       "    </tr>\n",
       "    <tr>\n",
       "      <th>bathroom</th>\n",
       "      <td>0.226766</td>\n",
       "      <td>0.733763</td>\n",
       "      <td>1.000000</td>\n",
       "      <td>0.697379</td>\n",
       "      <td>0.067112</td>\n",
       "      <td>0.118255</td>\n",
       "      <td>0.017938</td>\n",
       "      <td>0.050271</td>\n",
       "      <td>0.668504</td>\n",
       "      <td>0.109253</td>\n",
       "      <td>0.676399</td>\n",
       "      <td>0.208339</td>\n",
       "    </tr>\n",
       "    <tr>\n",
       "      <th>parking spaces</th>\n",
       "      <td>0.193983</td>\n",
       "      <td>0.617510</td>\n",
       "      <td>0.697379</td>\n",
       "      <td>1.000000</td>\n",
       "      <td>0.046220</td>\n",
       "      <td>0.127432</td>\n",
       "      <td>-0.004720</td>\n",
       "      <td>0.009321</td>\n",
       "      <td>0.578361</td>\n",
       "      <td>0.098378</td>\n",
       "      <td>0.597348</td>\n",
       "      <td>0.148684</td>\n",
       "    </tr>\n",
       "    <tr>\n",
       "      <th>floor</th>\n",
       "      <td>0.006703</td>\n",
       "      <td>-0.034455</td>\n",
       "      <td>0.067112</td>\n",
       "      <td>0.046220</td>\n",
       "      <td>1.000000</td>\n",
       "      <td>-0.019539</td>\n",
       "      <td>0.103316</td>\n",
       "      <td>0.015614</td>\n",
       "      <td>0.138879</td>\n",
       "      <td>0.019643</td>\n",
       "      <td>0.087996</td>\n",
       "      <td>0.047439</td>\n",
       "    </tr>\n",
       "    <tr>\n",
       "      <th>animal</th>\n",
       "      <td>0.039626</td>\n",
       "      <td>0.172190</td>\n",
       "      <td>0.118255</td>\n",
       "      <td>0.127432</td>\n",
       "      <td>-0.019539</td>\n",
       "      <td>1.000000</td>\n",
       "      <td>-0.087972</td>\n",
       "      <td>-0.022008</td>\n",
       "      <td>0.067754</td>\n",
       "      <td>-0.003006</td>\n",
       "      <td>0.079152</td>\n",
       "      <td>-0.007143</td>\n",
       "    </tr>\n",
       "    <tr>\n",
       "      <th>furniture</th>\n",
       "      <td>0.008175</td>\n",
       "      <td>-0.080694</td>\n",
       "      <td>0.017938</td>\n",
       "      <td>-0.004720</td>\n",
       "      <td>0.103316</td>\n",
       "      <td>-0.087972</td>\n",
       "      <td>1.000000</td>\n",
       "      <td>0.003413</td>\n",
       "      <td>0.164235</td>\n",
       "      <td>0.000985</td>\n",
       "      <td>0.141768</td>\n",
       "      <td>0.037781</td>\n",
       "    </tr>\n",
       "    <tr>\n",
       "      <th>hoa (R$)</th>\n",
       "      <td>0.006890</td>\n",
       "      <td>0.007139</td>\n",
       "      <td>0.050271</td>\n",
       "      <td>0.009321</td>\n",
       "      <td>0.015614</td>\n",
       "      <td>-0.022008</td>\n",
       "      <td>0.003413</td>\n",
       "      <td>1.000000</td>\n",
       "      <td>0.036490</td>\n",
       "      <td>0.007627</td>\n",
       "      <td>0.029535</td>\n",
       "      <td>0.955024</td>\n",
       "    </tr>\n",
       "    <tr>\n",
       "      <th>rent amount (R$)</th>\n",
       "      <td>0.180742</td>\n",
       "      <td>0.541758</td>\n",
       "      <td>0.668504</td>\n",
       "      <td>0.578361</td>\n",
       "      <td>0.138879</td>\n",
       "      <td>0.067754</td>\n",
       "      <td>0.164235</td>\n",
       "      <td>0.036490</td>\n",
       "      <td>1.000000</td>\n",
       "      <td>0.107884</td>\n",
       "      <td>0.987343</td>\n",
       "      <td>0.264490</td>\n",
       "    </tr>\n",
       "    <tr>\n",
       "      <th>property tax (R$)</th>\n",
       "      <td>0.039059</td>\n",
       "      <td>0.075252</td>\n",
       "      <td>0.109253</td>\n",
       "      <td>0.098378</td>\n",
       "      <td>0.019643</td>\n",
       "      <td>-0.003006</td>\n",
       "      <td>0.000985</td>\n",
       "      <td>0.007627</td>\n",
       "      <td>0.107884</td>\n",
       "      <td>1.000000</td>\n",
       "      <td>0.105661</td>\n",
       "      <td>0.218344</td>\n",
       "    </tr>\n",
       "    <tr>\n",
       "      <th>fire insurance (R$)</th>\n",
       "      <td>0.188078</td>\n",
       "      <td>0.565148</td>\n",
       "      <td>0.676399</td>\n",
       "      <td>0.597348</td>\n",
       "      <td>0.087996</td>\n",
       "      <td>0.079152</td>\n",
       "      <td>0.141768</td>\n",
       "      <td>0.029535</td>\n",
       "      <td>0.987343</td>\n",
       "      <td>0.105661</td>\n",
       "      <td>1.000000</td>\n",
       "      <td>0.254911</td>\n",
       "    </tr>\n",
       "    <tr>\n",
       "      <th>total (R$)</th>\n",
       "      <td>0.051799</td>\n",
       "      <td>0.134597</td>\n",
       "      <td>0.208339</td>\n",
       "      <td>0.148684</td>\n",
       "      <td>0.047439</td>\n",
       "      <td>-0.007143</td>\n",
       "      <td>0.037781</td>\n",
       "      <td>0.955024</td>\n",
       "      <td>0.264490</td>\n",
       "      <td>0.218344</td>\n",
       "      <td>0.254911</td>\n",
       "      <td>1.000000</td>\n",
       "    </tr>\n",
       "  </tbody>\n",
       "</table>\n",
       "</div>"
      ],
      "text/plain": [
       "                         area     rooms  bathroom  parking spaces     floor  \\\n",
       "area                 1.000000  0.193796  0.226766        0.193983  0.006703   \n",
       "rooms                0.193796  1.000000  0.733763        0.617510 -0.034455   \n",
       "bathroom             0.226766  0.733763  1.000000        0.697379  0.067112   \n",
       "parking spaces       0.193983  0.617510  0.697379        1.000000  0.046220   \n",
       "floor                0.006703 -0.034455  0.067112        0.046220  1.000000   \n",
       "animal               0.039626  0.172190  0.118255        0.127432 -0.019539   \n",
       "furniture            0.008175 -0.080694  0.017938       -0.004720  0.103316   \n",
       "hoa (R$)             0.006890  0.007139  0.050271        0.009321  0.015614   \n",
       "rent amount (R$)     0.180742  0.541758  0.668504        0.578361  0.138879   \n",
       "property tax (R$)    0.039059  0.075252  0.109253        0.098378  0.019643   \n",
       "fire insurance (R$)  0.188078  0.565148  0.676399        0.597348  0.087996   \n",
       "total (R$)           0.051799  0.134597  0.208339        0.148684  0.047439   \n",
       "\n",
       "                       animal  furniture  hoa (R$)  rent amount (R$)  \\\n",
       "area                 0.039626   0.008175  0.006890          0.180742   \n",
       "rooms                0.172190  -0.080694  0.007139          0.541758   \n",
       "bathroom             0.118255   0.017938  0.050271          0.668504   \n",
       "parking spaces       0.127432  -0.004720  0.009321          0.578361   \n",
       "floor               -0.019539   0.103316  0.015614          0.138879   \n",
       "animal               1.000000  -0.087972 -0.022008          0.067754   \n",
       "furniture           -0.087972   1.000000  0.003413          0.164235   \n",
       "hoa (R$)            -0.022008   0.003413  1.000000          0.036490   \n",
       "rent amount (R$)     0.067754   0.164235  0.036490          1.000000   \n",
       "property tax (R$)   -0.003006   0.000985  0.007627          0.107884   \n",
       "fire insurance (R$)  0.079152   0.141768  0.029535          0.987343   \n",
       "total (R$)          -0.007143   0.037781  0.955024          0.264490   \n",
       "\n",
       "                     property tax (R$)  fire insurance (R$)  total (R$)  \n",
       "area                          0.039059             0.188078    0.051799  \n",
       "rooms                         0.075252             0.565148    0.134597  \n",
       "bathroom                      0.109253             0.676399    0.208339  \n",
       "parking spaces                0.098378             0.597348    0.148684  \n",
       "floor                         0.019643             0.087996    0.047439  \n",
       "animal                       -0.003006             0.079152   -0.007143  \n",
       "furniture                     0.000985             0.141768    0.037781  \n",
       "hoa (R$)                      0.007627             0.029535    0.955024  \n",
       "rent amount (R$)              0.107884             0.987343    0.264490  \n",
       "property tax (R$)             1.000000             0.105661    0.218344  \n",
       "fire insurance (R$)           0.105661             1.000000    0.254911  \n",
       "total (R$)                    0.218344             0.254911    1.000000  "
      ]
     },
     "execution_count": 21,
     "metadata": {},
     "output_type": "execute_result"
    }
   ],
   "source": [
    "df.corr()"
   ]
  },
  {
   "cell_type": "markdown",
   "metadata": {},
   "source": [
    "### City"
   ]
  },
  {
   "cell_type": "code",
   "execution_count": 22,
   "metadata": {},
   "outputs": [
    {
     "data": {
      "text/plain": [
       "<matplotlib.collections.PathCollection at 0x1d0839e4e48>"
      ]
     },
     "execution_count": 22,
     "metadata": {},
     "output_type": "execute_result"
    },
    {
     "data": {
      "image/png": "[encoded data removed]",
      "text/plain": [
       "<Figure size 432x288 with 1 Axes>"
      ]
     },
     "metadata": {
      "needs_background": "light"
     },
     "output_type": "display_data"
    }
   ],
   "source": [
    "import matplotlib.pyplot as plt\n",
    "\n",
    "x= df['city']\n",
    "y= df['rent amount (R$)']\n",
    "\n",
    "plt.scatter(x,y)"
   ]
  },
  {
   "cell_type": "markdown",
   "metadata": {},
   "source": [
    "### Area"
   ]
  },
  {
   "cell_type": "code",
   "execution_count": 23,
   "metadata": {},
   "outputs": [
    {
     "data": {
      "text/plain": [
       "<matplotlib.collections.PathCollection at 0x1d0846f4708>"
      ]
     },
     "execution_count": 23,
     "metadata": {},
     "output_type": "execute_result"
    },
    {
     "data": {
      "image/png": "[encoded data removed]",
      "text/plain": [
       "<Figure size 432x288 with 1 Axes>"
      ]
     },
     "metadata": {
      "needs_background": "light"
     },
     "output_type": "display_data"
    }
   ],
   "source": [
    "import matplotlib.pyplot as plt\n",
    "\n",
    "x= df['area']\n",
    "y= df['rent amount (R$)']\n",
    "\n",
    "plt.scatter(x,y)"
   ]
  },
  {
   "cell_type": "markdown",
   "metadata": {},
   "source": [
    "'Enemy outliar spotter! What your orders Sir?'\n",
    "\n",
    "'Drop then all!'"
   ]
  },
  {
   "cell_type": "code",
   "execution_count": 24,
   "metadata": {},
   "outputs": [
    {
     "data": {
      "text/html": [
       "<div>\n",
       "<style scoped>\n",
       "    .dataframe tbody tr th:only-of-type {\n",
       "        vertical-align: middle;\n",
       "    }\n",
       "\n",
       "    .dataframe tbody tr th {\n",
       "        vertical-align: top;\n",
       "    }\n",
       "\n",
       "    .dataframe thead th {\n",
       "        text-align: right;\n",
       "    }\n",
       "</style>\n",
       "<table border=\"1\" class=\"dataframe\">\n",
       "  <thead>\n",
       "    <tr style=\"text-align: right;\">\n",
       "      <th></th>\n",
       "      <th>city</th>\n",
       "      <th>area</th>\n",
       "      <th>rooms</th>\n",
       "      <th>bathroom</th>\n",
       "      <th>parking spaces</th>\n",
       "      <th>floor</th>\n",
       "      <th>animal</th>\n",
       "      <th>furniture</th>\n",
       "      <th>hoa (R$)</th>\n",
       "      <th>rent amount (R$)</th>\n",
       "      <th>property tax (R$)</th>\n",
       "      <th>fire insurance (R$)</th>\n",
       "      <th>total (R$)</th>\n",
       "    </tr>\n",
       "  </thead>\n",
       "  <tbody>\n",
       "    <tr>\n",
       "      <th>2397</th>\n",
       "      <td>Belo Horizonte</td>\n",
       "      <td>46335</td>\n",
       "      <td>4</td>\n",
       "      <td>8</td>\n",
       "      <td>5</td>\n",
       "      <td>11</td>\n",
       "      <td>1</td>\n",
       "      <td>1</td>\n",
       "      <td>960</td>\n",
       "      <td>8500</td>\n",
       "      <td>646</td>\n",
       "      <td>114</td>\n",
       "      <td>10220</td>\n",
       "    </tr>\n",
       "    <tr>\n",
       "      <th>5915</th>\n",
       "      <td>São Paulo</td>\n",
       "      <td>24606</td>\n",
       "      <td>5</td>\n",
       "      <td>4</td>\n",
       "      <td>4</td>\n",
       "      <td>12</td>\n",
       "      <td>1</td>\n",
       "      <td>0</td>\n",
       "      <td>2254</td>\n",
       "      <td>8100</td>\n",
       "      <td>7859</td>\n",
       "      <td>103</td>\n",
       "      <td>18320</td>\n",
       "    </tr>\n",
       "  </tbody>\n",
       "</table>\n",
       "</div>"
      ],
      "text/plain": [
       "                city   area  rooms  bathroom  parking spaces  floor  animal  \\\n",
       "2397  Belo Horizonte  46335      4         8               5     11       1   \n",
       "5915       São Paulo  24606      5         4               4     12       1   \n",
       "\n",
       "      furniture  hoa (R$)  rent amount (R$)  property tax (R$)  \\\n",
       "2397          1       960              8500                646   \n",
       "5915          0      2254              8100               7859   \n",
       "\n",
       "      fire insurance (R$)  total (R$)  \n",
       "2397                  114       10220  \n",
       "5915                  103       18320  "
      ]
     },
     "execution_count": 24,
     "metadata": {},
     "output_type": "execute_result"
    }
   ],
   "source": [
    "df.sort_values(by = 'area', ascending = False)[:2]"
   ]
  },
  {
   "cell_type": "code",
   "execution_count": 25,
   "metadata": {},
   "outputs": [],
   "source": [
    "df = df.drop(df[df['area'] == 46335].index)\n",
    "df = df.drop(df[df['area'] == 12732].index)"
   ]
  },
  {
   "cell_type": "code",
   "execution_count": 26,
   "metadata": {},
   "outputs": [
    {
     "data": {
      "text/plain": [
       "<matplotlib.collections.PathCollection at 0x1d084947288>"
      ]
     },
     "execution_count": 26,
     "metadata": {},
     "output_type": "execute_result"
    },
    {
     "data": {
      "image/png": "[encoded data removed]",
      "text/plain": [
       "<Figure size 432x288 with 1 Axes>"
      ]
     },
     "metadata": {
      "needs_background": "light"
     },
     "output_type": "display_data"
    }
   ],
   "source": [
    "import matplotlib.pyplot as plt\n",
    "\n",
    "x= df['area']\n",
    "y= df['total (R$)']\n",
    "\n",
    "plt.scatter(x,y)"
   ]
  },
  {
   "cell_type": "markdown",
   "metadata": {},
   "source": [
    "We still have some enemys on the field, but I will let then live another day..."
   ]
  },
  {
   "cell_type": "markdown",
   "metadata": {},
   "source": [
    "### (Highest in the )Rooms\n",
    "Hope you catch the reference ;)"
   ]
  },
  {
   "cell_type": "code",
   "execution_count": 27,
   "metadata": {},
   "outputs": [
    {
     "data": {
      "text/plain": [
       "<matplotlib.collections.PathCollection at 0x1d0849a66c8>"
      ]
     },
     "execution_count": 27,
     "metadata": {},
     "output_type": "execute_result"
    },
    {
     "data": {
      "image/png": "[encoded data removed]",
      "text/plain": [
       "<Figure size 432x288 with 1 Axes>"
      ]
     },
     "metadata": {
      "needs_background": "light"
     },
     "output_type": "display_data"
    }
   ],
   "source": [
    "x= df['rooms']\n",
    "y= df['rent amount (R$)']\n",
    "\n",
    "plt.scatter(x,y)"
   ]
  },
  {
   "cell_type": "markdown",
   "metadata": {},
   "source": [
    "### Bathroom"
   ]
  },
  {
   "cell_type": "code",
   "execution_count": 28,
   "metadata": {},
   "outputs": [
    {
     "data": {
      "text/plain": [
       "<matplotlib.collections.PathCollection at 0x1d084a05b88>"
      ]
     },
     "execution_count": 28,
     "metadata": {},
     "output_type": "execute_result"
    },
    {
     "data": {
      "image/png": "[encoded data removed]",
      "text/plain": [
       "<Figure size 432x288 with 1 Axes>"
      ]
     },
     "metadata": {
      "needs_background": "light"
     },
     "output_type": "display_data"
    }
   ],
   "source": [
    "x= df['bathroom']\n",
    "y= df['rent amount (R$)']\n",
    "\n",
    "plt.scatter(x,y)"
   ]
  },
  {
   "cell_type": "markdown",
   "metadata": {},
   "source": [
    "### Parking spaces"
   ]
  },
  {
   "cell_type": "code",
   "execution_count": 29,
   "metadata": {},
   "outputs": [
    {
     "data": {
      "text/plain": [
       "<matplotlib.collections.PathCollection at 0x1d084a66a48>"
      ]
     },
     "execution_count": 29,
     "metadata": {},
     "output_type": "execute_result"
    },
    {
     "data": {
      "image/png": "[encoded data removed]",
      "text/plain": [
       "<Figure size 432x288 with 1 Axes>"
      ]
     },
     "metadata": {
      "needs_background": "light"
     },
     "output_type": "display_data"
    }
   ],
   "source": [
    "x= df['parking spaces']\n",
    "y= df['rent amount (R$)']\n",
    "\n",
    "plt.scatter(x,y)"
   ]
  },
  {
   "cell_type": "markdown",
   "metadata": {},
   "source": [
    "### HOA"
   ]
  },
  {
   "cell_type": "code",
   "execution_count": 30,
   "metadata": {},
   "outputs": [
    {
     "data": {
      "text/plain": [
       "<matplotlib.collections.PathCollection at 0x1d084ace888>"
      ]
     },
     "execution_count": 30,
     "metadata": {},
     "output_type": "execute_result"
    },
    {
     "data": {
      "image/png": "[encoded data removed]",
      "text/plain": [
       "<Figure size 432x288 with 1 Axes>"
      ]
     },
     "metadata": {
      "needs_background": "light"
     },
     "output_type": "display_data"
    }
   ],
   "source": [
    "import matplotlib.pyplot as plt\n",
    "\n",
    "x= df['hoa (R$)']\n",
    "y= df['rent amount (R$)']\n",
    "\n",
    "plt.scatter(x,y)"
   ]
  },
  {
   "cell_type": "markdown",
   "metadata": {},
   "source": [
    "### Total "
   ]
  },
  {
   "cell_type": "code",
   "execution_count": 31,
   "metadata": {},
   "outputs": [
    {
     "data": {
      "text/plain": [
       "<matplotlib.collections.PathCollection at 0x1d084b2edc8>"
      ]
     },
     "execution_count": 31,
     "metadata": {},
     "output_type": "execute_result"
    },
    {
     "data": {
      "image/png": "[encoded data removed]",
      "text/plain": [
       "<Figure size 432x288 with 1 Axes>"
      ]
     },
     "metadata": {
      "needs_background": "light"
     },
     "output_type": "display_data"
    }
   ],
   "source": [
    "y= df['rent amount (R$)']\n",
    "x= df['total (R$)']\n",
    "\n",
    "plt.scatter(x,y)"
   ]
  },
  {
   "cell_type": "markdown",
   "metadata": {},
   "source": [
    "### Property tax"
   ]
  },
  {
   "cell_type": "code",
   "execution_count": 32,
   "metadata": {},
   "outputs": [
    {
     "data": {
      "text/plain": [
       "<matplotlib.collections.PathCollection at 0x1d085ec4448>"
      ]
     },
     "execution_count": 32,
     "metadata": {},
     "output_type": "execute_result"
    },
    {
     "data": {
      "image/png": "[encoded data removed]",
      "text/plain": [
       "<Figure size 432x288 with 1 Axes>"
      ]
     },
     "metadata": {
      "needs_background": "light"
     },
     "output_type": "display_data"
    }
   ],
   "source": [
    "import matplotlib.pyplot as plt\n",
    "\n",
    "x= df['property tax (R$)']\n",
    "y= df['rent amount (R$)']\n",
    "\n",
    "plt.scatter(x,y)"
   ]
  },
  {
   "cell_type": "markdown",
   "metadata": {},
   "source": [
    "'Enemy spooted, you know what to do...'"
   ]
  },
  {
   "cell_type": "code",
   "execution_count": 33,
   "metadata": {},
   "outputs": [
    {
     "data": {
      "text/html": [
       "<div>\n",
       "<style scoped>\n",
       "    .dataframe tbody tr th:only-of-type {\n",
       "        vertical-align: middle;\n",
       "    }\n",
       "\n",
       "    .dataframe tbody tr th {\n",
       "        vertical-align: top;\n",
       "    }\n",
       "\n",
       "    .dataframe thead th {\n",
       "        text-align: right;\n",
       "    }\n",
       "</style>\n",
       "<table border=\"1\" class=\"dataframe\">\n",
       "  <thead>\n",
       "    <tr style=\"text-align: right;\">\n",
       "      <th></th>\n",
       "      <th>city</th>\n",
       "      <th>area</th>\n",
       "      <th>rooms</th>\n",
       "      <th>bathroom</th>\n",
       "      <th>parking spaces</th>\n",
       "      <th>floor</th>\n",
       "      <th>animal</th>\n",
       "      <th>furniture</th>\n",
       "      <th>hoa (R$)</th>\n",
       "      <th>rent amount (R$)</th>\n",
       "      <th>property tax (R$)</th>\n",
       "      <th>fire insurance (R$)</th>\n",
       "      <th>total (R$)</th>\n",
       "    </tr>\n",
       "  </thead>\n",
       "  <tbody>\n",
       "    <tr>\n",
       "      <th>6645</th>\n",
       "      <td>São Paulo</td>\n",
       "      <td>42</td>\n",
       "      <td>1</td>\n",
       "      <td>2</td>\n",
       "      <td>1</td>\n",
       "      <td>6</td>\n",
       "      <td>0</td>\n",
       "      <td>0</td>\n",
       "      <td>690</td>\n",
       "      <td>2500</td>\n",
       "      <td>313700</td>\n",
       "      <td>32</td>\n",
       "      <td>316900</td>\n",
       "    </tr>\n",
       "    <tr>\n",
       "      <th>6243</th>\n",
       "      <td>Rio de Janeiro</td>\n",
       "      <td>95</td>\n",
       "      <td>2</td>\n",
       "      <td>2</td>\n",
       "      <td>1</td>\n",
       "      <td>11</td>\n",
       "      <td>1</td>\n",
       "      <td>0</td>\n",
       "      <td>1024</td>\n",
       "      <td>3000</td>\n",
       "      <td>28120</td>\n",
       "      <td>39</td>\n",
       "      <td>32180</td>\n",
       "    </tr>\n",
       "  </tbody>\n",
       "</table>\n",
       "</div>"
      ],
      "text/plain": [
       "                city  area  rooms  bathroom  parking spaces  floor  animal  \\\n",
       "6645       São Paulo    42      1         2               1      6       0   \n",
       "6243  Rio de Janeiro    95      2         2               1     11       1   \n",
       "\n",
       "      furniture  hoa (R$)  rent amount (R$)  property tax (R$)  \\\n",
       "6645          0       690              2500             313700   \n",
       "6243          0      1024              3000              28120   \n",
       "\n",
       "      fire insurance (R$)  total (R$)  \n",
       "6645                   32      316900  \n",
       "6243                   39       32180  "
      ]
     },
     "execution_count": 33,
     "metadata": {},
     "output_type": "execute_result"
    }
   ],
   "source": [
    "df.sort_values(by = 'property tax (R$)', ascending = False)[:2]"
   ]
  },
  {
   "cell_type": "code",
   "execution_count": 34,
   "metadata": {},
   "outputs": [],
   "source": [
    "df = df.drop(df[df['property tax (R$)'] == 10830].index)\n"
   ]
  },
  {
   "cell_type": "code",
   "execution_count": 35,
   "metadata": {},
   "outputs": [
    {
     "data": {
      "text/plain": [
       "<matplotlib.collections.PathCollection at 0x1d085f2d048>"
      ]
     },
     "execution_count": 35,
     "metadata": {},
     "output_type": "execute_result"
    },
    {
     "data": {
      "image/png": "[encoded data removed]",
      "text/plain": [
       "<Figure size 432x288 with 1 Axes>"
      ]
     },
     "metadata": {
      "needs_background": "light"
     },
     "output_type": "display_data"
    }
   ],
   "source": [
    "x= df['property tax (R$)']\n",
    "y= df['rent amount (R$)']\n",
    "\n",
    "plt.scatter(x,y)"
   ]
  },
  {
   "cell_type": "markdown",
   "metadata": {},
   "source": [
    "Much better!"
   ]
  },
  {
   "cell_type": "markdown",
   "metadata": {},
   "source": [
    "### Fire insurance\n",
    "Come on, keep going, you're on fire! \n",
    "(Ok.. that has terrible...)"
   ]
  },
  {
   "cell_type": "code",
   "execution_count": 36,
   "metadata": {},
   "outputs": [
    {
     "data": {
      "text/plain": [
       "<matplotlib.collections.PathCollection at 0x1d085f950c8>"
      ]
     },
     "execution_count": 36,
     "metadata": {},
     "output_type": "execute_result"
    },
    {
     "data": {
      "image/png": "[encoded data removed]",
      "text/plain": [
       "<Figure size 432x288 with 1 Axes>"
      ]
     },
     "metadata": {
      "needs_background": "light"
     },
     "output_type": "display_data"
    }
   ],
   "source": [
    "x= df['fire insurance (R$)']\n",
    "y= df['rent amount (R$)']\n",
    "\n",
    "plt.scatter(x,y)"
   ]
  },
  {
   "cell_type": "markdown",
   "metadata": {},
   "source": [
    "# 4 - Feature selection\n",
    "In this case, we have only a few features, so it's not a problem use then all to create the model. But maybe you guys can know, we have some huge datasets, some with much more then 20 features, so here we will see how to select some good predict features"
   ]
  },
  {
   "cell_type": "code",
   "execution_count": 37,
   "metadata": {},
   "outputs": [],
   "source": [
    "x = df.drop(['total (R$)','city','rent amount (R$)'], axis=1)\n",
    "y = df['rent amount (R$)']"
   ]
  },
  {
   "cell_type": "markdown",
   "metadata": {},
   "source": [
    "A good way to select a variable is using chi^2. I realy recomend that you guys search about this method,  it have a lot of math and I will not spend so much time here showing you guys how the algorithm works, but in resume, we are searching for a feature with large chi^2 value"
   ]
  },
  {
   "cell_type": "code",
   "execution_count": 38,
   "metadata": {},
   "outputs": [],
   "source": [
    "from sklearn.feature_selection import SelectKBest\n",
    "from sklearn.feature_selection import chi2"
   ]
  },
  {
   "cell_type": "code",
   "execution_count": 39,
   "metadata": {},
   "outputs": [],
   "source": [
    "algorithm = SelectKBest(score_func=chi2, k=5)\n",
    "\n",
    "best_features = algorithm.fit_transform(x,y)"
   ]
  },
  {
   "cell_type": "code",
   "execution_count": 40,
   "metadata": {},
   "outputs": [
    {
     "name": "stdout",
     "output_type": "stream",
     "text": [
      "scores: [2.82024539e+06 2.54069122e+03 5.38617265e+03 7.57203222e+03\n",
      " 6.84551579e+03 3.30916916e+02 1.38354910e+03 8.60441857e+08\n",
      " 5.14941725e+06 4.47649188e+05]\n"
     ]
    }
   ],
   "source": [
    "print('scores:',algorithm.scores_)\n",
    "#print('Resultado da transformacao:\\n',dados_das_melhores_preditoras)"
   ]
  },
  {
   "cell_type": "code",
   "execution_count": 41,
   "metadata": {},
   "outputs": [],
   "source": [
    "chi_scores = algorithm.scores_"
   ]
  },
  {
   "cell_type": "code",
   "execution_count": 42,
   "metadata": {},
   "outputs": [],
   "source": [
    "chi_ = pd.DataFrame(data=chi_scores,columns = ['Chi^2'], index=['area','rooms','bathroom','parking spaces','floor','animal','furniture','hoa (R$)','property tax (R$)','fire insurance (R$)'])"
   ]
  },
  {
   "cell_type": "code",
   "execution_count": 43,
   "metadata": {},
   "outputs": [
    {
     "data": {
      "text/plain": [
       "hoa (R$)               8.604419e+08\n",
       "property tax (R$)      5.149417e+06\n",
       "area                   2.820245e+06\n",
       "fire insurance (R$)    4.476492e+05\n",
       "parking spaces         7.572032e+03\n",
       "floor                  6.845516e+03\n",
       "bathroom               5.386173e+03\n",
       "rooms                  2.540691e+03\n",
       "furniture              1.383549e+03\n",
       "animal                 3.309169e+02\n",
       "Name: Chi^2, dtype: float64"
      ]
     },
     "execution_count": 43,
     "metadata": {},
     "output_type": "execute_result"
    }
   ],
   "source": [
    "chi_['Chi^2'].sort_values(ascending=False)"
   ]
  },
  {
   "cell_type": "markdown",
   "metadata": {},
   "source": [
    "So, if we would doesnt not wanted to use all features, we could use some of those features good ranked"
   ]
  },
  {
   "cell_type": "markdown",
   "metadata": {},
   "source": [
    "# 5 - Modelling"
   ]
  },
  {
   "cell_type": "markdown",
   "metadata": {},
   "source": [
    "Now it's time for the fun step, here it is the different kinds of regression algorithms that I will use:\n",
    "* Linear regression\n",
    "* Ridge regression\n",
    "* Lasso regression\n",
    "* Elastic net\n",
    "* Decision tree regressor"
   ]
  },
  {
   "cell_type": "markdown",
   "metadata": {},
   "source": [
    "Classic train and test split"
   ]
  },
  {
   "cell_type": "code",
   "execution_count": 44,
   "metadata": {},
   "outputs": [],
   "source": [
    "from sklearn.model_selection import train_test_split"
   ]
  },
  {
   "cell_type": "code",
   "execution_count": 45,
   "metadata": {},
   "outputs": [],
   "source": [
    "x_train, x_test, y_train, y_test = train_test_split(x, y, test_size=0.30)"
   ]
  },
  {
   "cell_type": "markdown",
   "metadata": {},
   "source": [
    "## 5.1 - Linear regression"
   ]
  },
  {
   "cell_type": "code",
   "execution_count": 46,
   "metadata": {},
   "outputs": [],
   "source": [
    "from sklearn.linear_model import LinearRegression"
   ]
  },
  {
   "cell_type": "code",
   "execution_count": 47,
   "metadata": {},
   "outputs": [],
   "source": [
    "#lm = linear model\n",
    "lm = LinearRegression()"
   ]
  },
  {
   "cell_type": "code",
   "execution_count": 48,
   "metadata": {},
   "outputs": [
    {
     "data": {
      "text/plain": [
       "LinearRegression(copy_X=True, fit_intercept=True, n_jobs=None, normalize=False)"
      ]
     },
     "execution_count": 48,
     "metadata": {},
     "output_type": "execute_result"
    }
   ],
   "source": [
    "lm.fit(x_train, y_train)"
   ]
  },
  {
   "cell_type": "code",
   "execution_count": 49,
   "metadata": {},
   "outputs": [
    {
     "name": "stdout",
     "output_type": "stream",
     "text": [
      "R^2= 0.9794114691958018\n"
     ]
    }
   ],
   "source": [
    "a_lm =lm.score(x_test, y_test)\n",
    "print('R^2=', a_lm)         "
   ]
  },
  {
   "cell_type": "code",
   "execution_count": 50,
   "metadata": {},
   "outputs": [],
   "source": [
    "from sklearn.model_selection import KFold\n",
    "from sklearn.model_selection import cross_val_score"
   ]
  },
  {
   "cell_type": "code",
   "execution_count": 51,
   "metadata": {},
   "outputs": [],
   "source": [
    "kfold = KFold(n_splits=5,shuffle=True)"
   ]
  },
  {
   "cell_type": "code",
   "execution_count": 52,
   "metadata": {},
   "outputs": [
    {
     "name": "stdout",
     "output_type": "stream",
     "text": [
      "0.9381211606084054\n"
     ]
    }
   ],
   "source": [
    "b_lm = cross_val_score(lm,x,y,cv=kfold)\n",
    "print(b_lm.mean())"
   ]
  },
  {
   "cell_type": "markdown",
   "metadata": {},
   "source": [
    "Easy peasy right? We created our model object, trained with the ``lm.fit()`` and then get the score; After that We did a cross validation to double check our model accuracy. If you understood how we build and train this model, understand the following ones will be easy"
   ]
  },
  {
   "cell_type": "markdown",
   "metadata": {},
   "source": [
    "## 5.2 - Ridge regression"
   ]
  },
  {
   "cell_type": "code",
   "execution_count": 53,
   "metadata": {},
   "outputs": [],
   "source": [
    "from sklearn.linear_model import Ridge\n",
    "#rm = Ridge model\n",
    "rm = Ridge()"
   ]
  },
  {
   "cell_type": "code",
   "execution_count": 54,
   "metadata": {},
   "outputs": [
    {
     "data": {
      "text/plain": [
       "Ridge(alpha=1.0, copy_X=True, fit_intercept=True, max_iter=None,\n",
       "      normalize=False, random_state=None, solver='auto', tol=0.001)"
      ]
     },
     "execution_count": 54,
     "metadata": {},
     "output_type": "execute_result"
    }
   ],
   "source": [
    "rm.fit(x_train, y_train)"
   ]
  },
  {
   "cell_type": "code",
   "execution_count": 55,
   "metadata": {},
   "outputs": [
    {
     "name": "stdout",
     "output_type": "stream",
     "text": [
      "R^2= 0.979411446434942\n"
     ]
    }
   ],
   "source": [
    "a_rm =rm.score(x_test, y_test)\n",
    "print('R^2=',a_rm)"
   ]
  },
  {
   "cell_type": "code",
   "execution_count": 56,
   "metadata": {},
   "outputs": [],
   "source": [
    "kfold = KFold(n_splits=5,shuffle=True)"
   ]
  },
  {
   "cell_type": "code",
   "execution_count": 57,
   "metadata": {},
   "outputs": [
    {
     "name": "stdout",
     "output_type": "stream",
     "text": [
      "0.9609854690465192\n"
     ]
    }
   ],
   "source": [
    "b_rm = cross_val_score(rm,x,y,cv=kfold)\n",
    "print(b_rm.mean())"
   ]
  },
  {
   "cell_type": "markdown",
   "metadata": {},
   "source": [
    "Much like the before model right? We could variate the 'alpha' value using GridSearchCV, but as we already got a good result we don't need to do it"
   ]
  },
  {
   "cell_type": "markdown",
   "metadata": {},
   "source": [
    "## 5.3 - Lasso regression"
   ]
  },
  {
   "cell_type": "code",
   "execution_count": 58,
   "metadata": {},
   "outputs": [],
   "source": [
    "from sklearn.linear_model import Lasso\n",
    "#lassom = lasso model\n",
    "lassom = Lasso(alpha=1000, max_iter=1000, tol=0.1)"
   ]
  },
  {
   "cell_type": "code",
   "execution_count": 59,
   "metadata": {},
   "outputs": [
    {
     "name": "stdout",
     "output_type": "stream",
     "text": [
      "R^2= 0.9756219810219842\n"
     ]
    }
   ],
   "source": [
    "lassom.fit(x_train, y_train)\n",
    "\n",
    "a_lassom = lassom.score(x_test, y_test)\n",
    "print('R^2=',a_lassom)"
   ]
  },
  {
   "cell_type": "code",
   "execution_count": 60,
   "metadata": {},
   "outputs": [],
   "source": [
    "kfold = KFold(n_splits=5,shuffle=True)"
   ]
  },
  {
   "cell_type": "code",
   "execution_count": 61,
   "metadata": {},
   "outputs": [
    {
     "name": "stdout",
     "output_type": "stream",
     "text": [
      "0.9467415842741987\n"
     ]
    }
   ],
   "source": [
    "b_lassom = cross_val_score(lassom,x,y,cv=kfold)\n",
    "print(b_lassom.mean())"
   ]
  },
  {
   "cell_type": "markdown",
   "metadata": {},
   "source": [
    "## 5.4 - ElasticNet"
   ]
  },
  {
   "cell_type": "code",
   "execution_count": 62,
   "metadata": {},
   "outputs": [],
   "source": [
    "from sklearn.linear_model import ElasticNet\n",
    "#em = elastic model\n",
    "em = ElasticNet(alpha=1,max_iter=5000, l1_ratio=0.5, tol=0.2)"
   ]
  },
  {
   "cell_type": "code",
   "execution_count": 63,
   "metadata": {},
   "outputs": [
    {
     "name": "stdout",
     "output_type": "stream",
     "text": [
      "R^2= 0.9790432750997086\n"
     ]
    }
   ],
   "source": [
    "em.fit(x_train, y_train)\n",
    "\n",
    "a_em = em.score(x_test, y_test)\n",
    "print('R^2=',a_em)"
   ]
  },
  {
   "cell_type": "code",
   "execution_count": 64,
   "metadata": {},
   "outputs": [],
   "source": [
    "kfold = KFold(n_splits=5,shuffle=True)"
   ]
  },
  {
   "cell_type": "code",
   "execution_count": 65,
   "metadata": {},
   "outputs": [
    {
     "name": "stdout",
     "output_type": "stream",
     "text": [
      "0.9572293241269951\n"
     ]
    }
   ],
   "source": [
    "b_em = cross_val_score(em,x,y,cv=kfold)\n",
    "print(b_em.mean())"
   ]
  },
  {
   "cell_type": "markdown",
   "metadata": {},
   "source": [
    "Again, again and again.. Hope you guys are understanding.. I'm not commenting too much now because it's much like the linear regression and the ridge regression. One more time, i could be variating parameters in the lasso regression and in the elasticnet, but we are getting good results without change then"
   ]
  },
  {
   "cell_type": "markdown",
   "metadata": {},
   "source": [
    "## 5.5 - Decision tree regressor"
   ]
  },
  {
   "cell_type": "code",
   "execution_count": 66,
   "metadata": {},
   "outputs": [],
   "source": [
    "import numpy as np\n",
    "from sklearn.model_selection import GridSearchCV\n",
    "\n",
    "from sklearn.tree import DecisionTreeRegressor"
   ]
  },
  {
   "cell_type": "code",
   "execution_count": 67,
   "metadata": {},
   "outputs": [],
   "source": [
    "min_splits = np.array([2,3,4,5,6,7])\n",
    "max_lever = np.array([3,4,5,6,7,9,11])\n",
    "algorithm = ['mse', 'friedman_mse', 'mae']\n",
    "\n",
    "valores_grid = {'min_samples_split':min_splits,\n",
    "                'max_depth':max_lever,\n",
    "                'criterion':algorithm\n",
    "               }"
   ]
  },
  {
   "cell_type": "code",
   "execution_count": 68,
   "metadata": {},
   "outputs": [],
   "source": [
    "tm = DecisionTreeRegressor()"
   ]
  },
  {
   "cell_type": "code",
   "execution_count": 69,
   "metadata": {},
   "outputs": [
    {
     "data": {
      "text/plain": [
       "GridSearchCV(cv=5, error_score=nan,\n",
       "             estimator=DecisionTreeRegressor(ccp_alpha=0.0, criterion='mse',\n",
       "                                             max_depth=None, max_features=None,\n",
       "                                             max_leaf_nodes=None,\n",
       "                                             min_impurity_decrease=0.0,\n",
       "                                             min_impurity_split=None,\n",
       "                                             min_samples_leaf=1,\n",
       "                                             min_samples_split=2,\n",
       "                                             min_weight_fraction_leaf=0.0,\n",
       "                                             presort='deprecated',\n",
       "                                             random_state=None,\n",
       "                                             splitter='best'),\n",
       "             iid='deprecated', n_jobs=-1,\n",
       "             param_grid={'criterion': ['mse', 'friedman_mse', 'mae'],\n",
       "                         'max_depth': array([ 3,  4,  5,  6,  7,  9, 11]),\n",
       "                         'min_samples_split': array([2, 3, 4, 5, 6, 7])},\n",
       "             pre_dispatch='2*n_jobs', refit=True, return_train_score=False,\n",
       "             scoring=None, verbose=0)"
      ]
     },
     "execution_count": 69,
     "metadata": {},
     "output_type": "execute_result"
    }
   ],
   "source": [
    "grid_tm = GridSearchCV(estimator=tm, param_grid=valores_grid, cv=5, n_jobs=-1)\n",
    "grid_tm.fit(x,y)"
   ]
  },
  {
   "cell_type": "code",
   "execution_count": 70,
   "metadata": {},
   "outputs": [
    {
     "name": "stdout",
     "output_type": "stream",
     "text": [
      "R2: 0.9833143575925914\n",
      "Min to split: 5\n",
      "Max depth: 7\n",
      "Algorithm: friedman_mse\n"
     ]
    }
   ],
   "source": [
    "print('R2:',grid_tm.best_score_)\n",
    "print('Min to split:',grid_tm.best_estimator_.min_samples_split)\n",
    "print('Max depth:',grid_tm.best_estimator_.max_depth)\n",
    "print('Algorithm:',grid_tm.best_estimator_.criterion)"
   ]
  },
  {
   "cell_type": "markdown",
   "metadata": {},
   "source": [
    "Now we have something that worth variate. To do this variation with the parameters we can use GridSearchCV"
   ]
  },
  {
   "cell_type": "markdown",
   "metadata": {},
   "source": [
    "Finishing our modelling work, let's compare the accuracy values for each model(using train_test_split and cross validation)"
   ]
  },
  {
   "cell_type": "code",
   "execution_count": 71,
   "metadata": {},
   "outputs": [],
   "source": [
    "score_df_data = {'Linear regression':[0.9870,0.9871],\n",
    "        'Ridge regression':[0.9870,0.9872],\n",
    "        'Lasso regression':[0.9828,0.9823],\n",
    "        'ElasticNet':[0.9866,0.9866],\n",
    "        'Decision tree regression':['Nan',0.9929]}\n",
    "\n",
    "\n",
    "\n",
    "score_df = pd.DataFrame(data=score_df_data ,index=['Train_test','Cross_val'])\n"
   ]
  },
  {
   "cell_type": "code",
   "execution_count": 72,
   "metadata": {},
   "outputs": [
    {
     "data": {
      "text/html": [
       "<div>\n",
       "<style scoped>\n",
       "    .dataframe tbody tr th:only-of-type {\n",
       "        vertical-align: middle;\n",
       "    }\n",
       "\n",
       "    .dataframe tbody tr th {\n",
       "        vertical-align: top;\n",
       "    }\n",
       "\n",
       "    .dataframe thead th {\n",
       "        text-align: right;\n",
       "    }\n",
       "</style>\n",
       "<table border=\"1\" class=\"dataframe\">\n",
       "  <thead>\n",
       "    <tr style=\"text-align: right;\">\n",
       "      <th></th>\n",
       "      <th>Linear regression</th>\n",
       "      <th>Ridge regression</th>\n",
       "      <th>Lasso regression</th>\n",
       "      <th>ElasticNet</th>\n",
       "      <th>Decision tree regression</th>\n",
       "    </tr>\n",
       "  </thead>\n",
       "  <tbody>\n",
       "    <tr>\n",
       "      <th>Train_test</th>\n",
       "      <td>0.9870</td>\n",
       "      <td>0.9870</td>\n",
       "      <td>0.9828</td>\n",
       "      <td>0.9866</td>\n",
       "      <td>Nan</td>\n",
       "    </tr>\n",
       "    <tr>\n",
       "      <th>Cross_val</th>\n",
       "      <td>0.9871</td>\n",
       "      <td>0.9872</td>\n",
       "      <td>0.9823</td>\n",
       "      <td>0.9866</td>\n",
       "      <td>0.9929</td>\n",
       "    </tr>\n",
       "  </tbody>\n",
       "</table>\n",
       "</div>"
      ],
      "text/plain": [
       "            Linear regression  Ridge regression  Lasso regression  ElasticNet  \\\n",
       "Train_test             0.9870            0.9870            0.9828      0.9866   \n",
       "Cross_val              0.9871            0.9872            0.9823      0.9866   \n",
       "\n",
       "           Decision tree regression  \n",
       "Train_test                      Nan  \n",
       "Cross_val                    0.9929  "
      ]
     },
     "execution_count": 72,
     "metadata": {},
     "output_type": "execute_result"
    }
   ],
   "source": [
    "score_df"
   ]
  },
  {
   "cell_type": "markdown",
   "metadata": {},
   "source": [
    "Pretty!\n",
    "\n",
    "All moodels have a realy good accuracy\n",
    "\n",
    "'If that's good?'\n",
    "\n",
    "In the reality that give me goosebumps, because I start to think that something is wrong. "
   ]
  },
  {
   "cell_type": "markdown",
   "metadata": {},
   "source": [
    "# 6 - Predicting new values"
   ]
  },
  {
   "cell_type": "markdown",
   "metadata": {},
   "source": [
    "One way to see if that huge accuracy are correct is inserting new values to see how the model react.\n",
    "\n",
    "I did some tests and looks that indeed we have good prediction"
   ]
  },
  {
   "cell_type": "code",
   "execution_count": 73,
   "metadata": {},
   "outputs": [
    {
     "data": {
      "text/html": [
       "<div>\n",
       "<style scoped>\n",
       "    .dataframe tbody tr th:only-of-type {\n",
       "        vertical-align: middle;\n",
       "    }\n",
       "\n",
       "    .dataframe tbody tr th {\n",
       "        vertical-align: top;\n",
       "    }\n",
       "\n",
       "    .dataframe thead th {\n",
       "        text-align: right;\n",
       "    }\n",
       "</style>\n",
       "<table border=\"1\" class=\"dataframe\">\n",
       "  <thead>\n",
       "    <tr style=\"text-align: right;\">\n",
       "      <th></th>\n",
       "      <th>city</th>\n",
       "      <th>area</th>\n",
       "      <th>rooms</th>\n",
       "      <th>bathroom</th>\n",
       "      <th>parking spaces</th>\n",
       "      <th>floor</th>\n",
       "      <th>animal</th>\n",
       "      <th>furniture</th>\n",
       "      <th>hoa (R$)</th>\n",
       "      <th>rent amount (R$)</th>\n",
       "      <th>property tax (R$)</th>\n",
       "      <th>fire insurance (R$)</th>\n",
       "      <th>total (R$)</th>\n",
       "    </tr>\n",
       "  </thead>\n",
       "  <tbody>\n",
       "    <tr>\n",
       "      <th>0</th>\n",
       "      <td>São Paulo</td>\n",
       "      <td>70</td>\n",
       "      <td>2</td>\n",
       "      <td>1</td>\n",
       "      <td>1</td>\n",
       "      <td>7</td>\n",
       "      <td>1</td>\n",
       "      <td>1</td>\n",
       "      <td>2065</td>\n",
       "      <td>3300</td>\n",
       "      <td>211</td>\n",
       "      <td>42</td>\n",
       "      <td>5618</td>\n",
       "    </tr>\n",
       "    <tr>\n",
       "      <th>1</th>\n",
       "      <td>São Paulo</td>\n",
       "      <td>320</td>\n",
       "      <td>4</td>\n",
       "      <td>4</td>\n",
       "      <td>0</td>\n",
       "      <td>20</td>\n",
       "      <td>1</td>\n",
       "      <td>0</td>\n",
       "      <td>1200</td>\n",
       "      <td>4960</td>\n",
       "      <td>1750</td>\n",
       "      <td>63</td>\n",
       "      <td>7973</td>\n",
       "    </tr>\n",
       "    <tr>\n",
       "      <th>2</th>\n",
       "      <td>Porto Alegre</td>\n",
       "      <td>80</td>\n",
       "      <td>1</td>\n",
       "      <td>1</td>\n",
       "      <td>1</td>\n",
       "      <td>6</td>\n",
       "      <td>1</td>\n",
       "      <td>0</td>\n",
       "      <td>1000</td>\n",
       "      <td>2800</td>\n",
       "      <td>0</td>\n",
       "      <td>41</td>\n",
       "      <td>3841</td>\n",
       "    </tr>\n",
       "    <tr>\n",
       "      <th>3</th>\n",
       "      <td>Porto Alegre</td>\n",
       "      <td>51</td>\n",
       "      <td>2</td>\n",
       "      <td>1</td>\n",
       "      <td>0</td>\n",
       "      <td>2</td>\n",
       "      <td>1</td>\n",
       "      <td>0</td>\n",
       "      <td>270</td>\n",
       "      <td>1112</td>\n",
       "      <td>22</td>\n",
       "      <td>17</td>\n",
       "      <td>1421</td>\n",
       "    </tr>\n",
       "    <tr>\n",
       "      <th>4</th>\n",
       "      <td>São Paulo</td>\n",
       "      <td>25</td>\n",
       "      <td>1</td>\n",
       "      <td>1</td>\n",
       "      <td>0</td>\n",
       "      <td>1</td>\n",
       "      <td>0</td>\n",
       "      <td>0</td>\n",
       "      <td>0</td>\n",
       "      <td>800</td>\n",
       "      <td>25</td>\n",
       "      <td>11</td>\n",
       "      <td>836</td>\n",
       "    </tr>\n",
       "  </tbody>\n",
       "</table>\n",
       "</div>"
      ],
      "text/plain": [
       "           city  area  rooms  bathroom  parking spaces  floor  animal  \\\n",
       "0     São Paulo    70      2         1               1      7       1   \n",
       "1     São Paulo   320      4         4               0     20       1   \n",
       "2  Porto Alegre    80      1         1               1      6       1   \n",
       "3  Porto Alegre    51      2         1               0      2       1   \n",
       "4     São Paulo    25      1         1               0      1       0   \n",
       "\n",
       "   furniture  hoa (R$)  rent amount (R$)  property tax (R$)  \\\n",
       "0          1      2065              3300                211   \n",
       "1          0      1200              4960               1750   \n",
       "2          0      1000              2800                  0   \n",
       "3          0       270              1112                 22   \n",
       "4          0         0               800                 25   \n",
       "\n",
       "   fire insurance (R$)  total (R$)  \n",
       "0                   42        5618  \n",
       "1                   63        7973  \n",
       "2                   41        3841  \n",
       "3                   17        1421  \n",
       "4                   11         836  "
      ]
     },
     "execution_count": 73,
     "metadata": {},
     "output_type": "execute_result"
    }
   ],
   "source": [
    "df.head()"
   ]
  },
  {
   "cell_type": "code",
   "execution_count": 85,
   "metadata": {
    "scrolled": true
   },
   "outputs": [
    {
     "name": "stdout",
     "output_type": "stream",
     "text": [
      "AREA:\n",
      "79\n",
      "ROOMS:\n",
      "3\n",
      "BATHROOM:\n",
      "2\n",
      "PARKING SPACES:\n",
      "1\n",
      "FLOOR:\n",
      "4\n",
      "ANIMAL 1-YES/0-NO:\n",
      "1\n",
      "FORNITURE 1-YES/0-NO:\n",
      "0\n",
      "HOA:\n",
      "1000\n",
      "PROPERTY TAX:\n",
      "100\n",
      "FIRE INSURANCE:\n",
      "63\n"
     ]
    }
   ],
   "source": [
    "a = input('AREA:\\n')\n",
    "b = input('ROOMS:\\n')\n",
    "c = input('BATHROOM:\\n')\n",
    "d = input('PARKING SPACES:\\n')\n",
    "e = input('FLOOR:\\n')\n",
    "f = input('ANIMAL 1-YES/0-NO:\\n')\n",
    "g = input('FORNITURE 1-YES/0-NO:\\n')\n",
    "h = input('HOA:\\n')\n",
    "i = input('PROPERTY TAX:\\n')\n",
    "j = input('FIRE INSURANCE:\\n')"
   ]
  },
  {
   "cell_type": "code",
   "execution_count": 86,
   "metadata": {},
   "outputs": [
    {
     "data": {
      "text/html": [
       "<div>\n",
       "<style scoped>\n",
       "    .dataframe tbody tr th:only-of-type {\n",
       "        vertical-align: middle;\n",
       "    }\n",
       "\n",
       "    .dataframe tbody tr th {\n",
       "        vertical-align: top;\n",
       "    }\n",
       "\n",
       "    .dataframe thead th {\n",
       "        text-align: right;\n",
       "    }\n",
       "</style>\n",
       "<table border=\"1\" class=\"dataframe\">\n",
       "  <thead>\n",
       "    <tr style=\"text-align: right;\">\n",
       "      <th></th>\n",
       "      <th>city</th>\n",
       "      <th>area</th>\n",
       "      <th>rooms</th>\n",
       "      <th>bathroom</th>\n",
       "      <th>parking spaces</th>\n",
       "      <th>floor</th>\n",
       "      <th>animal</th>\n",
       "      <th>furniture</th>\n",
       "      <th>hoa (R$)</th>\n",
       "      <th>rent amount (R$)</th>\n",
       "      <th>property tax (R$)</th>\n",
       "      <th>fire insurance (R$)</th>\n",
       "      <th>total (R$)</th>\n",
       "    </tr>\n",
       "  </thead>\n",
       "  <tbody>\n",
       "    <tr>\n",
       "      <th>0</th>\n",
       "      <td>São Paulo</td>\n",
       "      <td>70</td>\n",
       "      <td>2</td>\n",
       "      <td>1</td>\n",
       "      <td>1</td>\n",
       "      <td>7</td>\n",
       "      <td>1</td>\n",
       "      <td>1</td>\n",
       "      <td>2065</td>\n",
       "      <td>3300</td>\n",
       "      <td>211</td>\n",
       "      <td>42</td>\n",
       "      <td>5618</td>\n",
       "    </tr>\n",
       "    <tr>\n",
       "      <th>1</th>\n",
       "      <td>São Paulo</td>\n",
       "      <td>320</td>\n",
       "      <td>4</td>\n",
       "      <td>4</td>\n",
       "      <td>0</td>\n",
       "      <td>20</td>\n",
       "      <td>1</td>\n",
       "      <td>0</td>\n",
       "      <td>1200</td>\n",
       "      <td>4960</td>\n",
       "      <td>1750</td>\n",
       "      <td>63</td>\n",
       "      <td>7973</td>\n",
       "    </tr>\n",
       "    <tr>\n",
       "      <th>2</th>\n",
       "      <td>Porto Alegre</td>\n",
       "      <td>80</td>\n",
       "      <td>1</td>\n",
       "      <td>1</td>\n",
       "      <td>1</td>\n",
       "      <td>6</td>\n",
       "      <td>1</td>\n",
       "      <td>0</td>\n",
       "      <td>1000</td>\n",
       "      <td>2800</td>\n",
       "      <td>0</td>\n",
       "      <td>41</td>\n",
       "      <td>3841</td>\n",
       "    </tr>\n",
       "    <tr>\n",
       "      <th>3</th>\n",
       "      <td>Porto Alegre</td>\n",
       "      <td>51</td>\n",
       "      <td>2</td>\n",
       "      <td>1</td>\n",
       "      <td>0</td>\n",
       "      <td>2</td>\n",
       "      <td>1</td>\n",
       "      <td>0</td>\n",
       "      <td>270</td>\n",
       "      <td>1112</td>\n",
       "      <td>22</td>\n",
       "      <td>17</td>\n",
       "      <td>1421</td>\n",
       "    </tr>\n",
       "    <tr>\n",
       "      <th>4</th>\n",
       "      <td>São Paulo</td>\n",
       "      <td>25</td>\n",
       "      <td>1</td>\n",
       "      <td>1</td>\n",
       "      <td>0</td>\n",
       "      <td>1</td>\n",
       "      <td>0</td>\n",
       "      <td>0</td>\n",
       "      <td>0</td>\n",
       "      <td>800</td>\n",
       "      <td>25</td>\n",
       "      <td>11</td>\n",
       "      <td>836</td>\n",
       "    </tr>\n",
       "  </tbody>\n",
       "</table>\n",
       "</div>"
      ],
      "text/plain": [
       "           city  area  rooms  bathroom  parking spaces  floor  animal  \\\n",
       "0     São Paulo    70      2         1               1      7       1   \n",
       "1     São Paulo   320      4         4               0     20       1   \n",
       "2  Porto Alegre    80      1         1               1      6       1   \n",
       "3  Porto Alegre    51      2         1               0      2       1   \n",
       "4     São Paulo    25      1         1               0      1       0   \n",
       "\n",
       "   furniture  hoa (R$)  rent amount (R$)  property tax (R$)  \\\n",
       "0          1      2065              3300                211   \n",
       "1          0      1200              4960               1750   \n",
       "2          0      1000              2800                  0   \n",
       "3          0       270              1112                 22   \n",
       "4          0         0               800                 25   \n",
       "\n",
       "   fire insurance (R$)  total (R$)  \n",
       "0                   42        5618  \n",
       "1                   63        7973  \n",
       "2                   41        3841  \n",
       "3                   17        1421  \n",
       "4                   11         836  "
      ]
     },
     "execution_count": 86,
     "metadata": {},
     "output_type": "execute_result"
    }
   ],
   "source": [
    "df.head()"
   ]
  },
  {
   "cell_type": "code",
   "execution_count": 87,
   "metadata": {},
   "outputs": [],
   "source": [
    "l = rm.predict([[int(a),int(b),int(c),int(d),int(e),int(f),int(g),int(h),int(i),int(j)]])"
   ]
  },
  {
   "cell_type": "code",
   "execution_count": 88,
   "metadata": {},
   "outputs": [
    {
     "name": "stdout",
     "output_type": "stream",
     "text": [
      "The total value suggest is R$ 4453.122008520308\n"
     ]
    }
   ],
   "source": [
    "print('The total value suggest is R$',l[0])"
   ]
  },
  {
   "cell_type": "markdown",
   "metadata": {},
   "source": [
    "I did some tests and looks that indeed we have decent prediction; What about you guys? What do you think about our results? We can do a lot more in EDA, what would you add? ;)\n",
    "\n",
    "\n",
    "Leave a comment!"
   ]
  },
  {
   "cell_type": "code",
   "execution_count": null,
   "metadata": {},
   "outputs": [],
   "source": []
  }
 ],
 "metadata": {
  "kernelspec": {
   "display_name": "Python 3",
   "language": "python",
   "name": "python3"
  },
  "language_info": {
   "codemirror_mode": {
    "name": "ipython",
    "version": 3
   },
   "file_extension": ".py",
   "mimetype": "text/x-python",
   "name": "python",
   "nbconvert_exporter": "python",
   "pygments_lexer": "ipython3",
   "version": "3.7.6"
  }
 },
 "nbformat": 4,
 "nbformat_minor": 4
}
